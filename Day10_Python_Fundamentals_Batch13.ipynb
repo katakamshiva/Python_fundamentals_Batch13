{
 "cells": [
  {
   "cell_type": "code",
   "execution_count": 2,
   "metadata": {},
   "outputs": [],
   "source": [
    "user_0={'username':'shiva',\n",
    "       'password':'pwd123',\n",
    "       'secondary pwd':'secndpwd'}"
   ]
  },
  {
   "cell_type": "code",
   "execution_count": 3,
   "metadata": {},
   "outputs": [
    {
     "data": {
      "text/plain": [
       "dict"
      ]
     },
     "execution_count": 3,
     "metadata": {},
     "output_type": "execute_result"
    }
   ],
   "source": [
    "type(user_0)"
   ]
  },
  {
   "cell_type": "code",
   "execution_count": 4,
   "metadata": {},
   "outputs": [
    {
     "name": "stdout",
     "output_type": "stream",
     "text": [
      "{'username': 'shiva', 'password': 'pwd123', 'secondary pwd': 'secndpwd'}\n"
     ]
    }
   ],
   "source": [
    "print(user_0)"
   ]
  },
  {
   "cell_type": "code",
   "execution_count": 10,
   "metadata": {},
   "outputs": [
    {
     "name": "stdout",
     "output_type": "stream",
     "text": [
      "\n",
      "key:username\n",
      "value:shiva\n",
      "\n",
      "key:password\n",
      "value:pwd123\n",
      "\n",
      "key:secondary pwd\n",
      "value:secndpwd\n"
     ]
    }
   ],
   "source": [
    "#loop\n",
    "for key1,value1 in user_0.items():\n",
    "    print(f\"\\nkey:{key1}\")\n",
    "    print(f\"value:{value1}\")"
   ]
  },
  {
   "cell_type": "code",
   "execution_count": 14,
   "metadata": {},
   "outputs": [
    {
     "name": "stdout",
     "output_type": "stream",
     "text": [
      "username\n",
      "password\n",
      "secondary pwd\n"
     ]
    }
   ],
   "source": [
    "for a in user_0.keys():\n",
    "    print(a)"
   ]
  },
  {
   "cell_type": "code",
   "execution_count": 16,
   "metadata": {},
   "outputs": [
    {
     "name": "stdout",
     "output_type": "stream",
     "text": [
      "shiva\n",
      "pwd123\n",
      "secndpwd\n"
     ]
    }
   ],
   "source": [
    "for b in user_0.values():\n",
    "    print(b)"
   ]
  },
  {
   "cell_type": "code",
   "execution_count": 19,
   "metadata": {},
   "outputs": [],
   "source": [
    "fav_languagues={'vikram':'python',\n",
    "               'poonam':'java',\n",
    "               'muzzamil':'c++',\n",
    "               'vivke':'cobal',\n",
    "               'sri':'pascal'}"
   ]
  },
  {
   "cell_type": "code",
   "execution_count": 20,
   "metadata": {},
   "outputs": [
    {
     "name": "stdout",
     "output_type": "stream",
     "text": [
      "{'vikram': 'python', 'poonam': 'java', 'muzzamil': 'c++', 'vivke': 'cobal', 'sri': 'pascal'}\n"
     ]
    }
   ],
   "source": [
    "print(fav_languagues)"
   ]
  },
  {
   "cell_type": "code",
   "execution_count": 22,
   "metadata": {},
   "outputs": [
    {
     "name": "stdout",
     "output_type": "stream",
     "text": [
      "Muzzamil, you are student of my classes\n",
      "Poonam, you are student of my classes\n",
      "Sri, you are student of my classes\n",
      "Vikram, you are student of my classes\n",
      "Vivke, you are student of my classes\n"
     ]
    }
   ],
   "source": [
    "for name in sorted(fav_languagues.keys()):\n",
    "    print(f\"{name.title()}, you are student of my classes\")"
   ]
  },
  {
   "cell_type": "code",
   "execution_count": 38,
   "metadata": {},
   "outputs": [
    {
     "name": "stdout",
     "output_type": "stream",
     "text": [
      "{'vikram': 'python', 'poonam': 'java', 'muzzamil': 'c++', 'vivke': 'cobal', 'sri': 'pascal'}\n"
     ]
    }
   ],
   "source": [
    "print(fav_languagues)"
   ]
  },
  {
   "cell_type": "code",
   "execution_count": 39,
   "metadata": {},
   "outputs": [
    {
     "name": "stdout",
     "output_type": "stream",
     "text": [
      "1\n",
      "2\n",
      "3\n",
      "4\n",
      "5\n",
      "6\n",
      "7\n",
      "8\n",
      "9\n",
      "10\n"
     ]
    }
   ],
   "source": [
    "current_num=1\n",
    "while current_num <=10:\n",
    "    print(current_num)\n",
    "    current_num+=1"
   ]
  },
  {
   "cell_type": "code",
   "execution_count": null,
   "metadata": {},
   "outputs": [],
   "source": []
  },
  {
   "cell_type": "code",
   "execution_count": null,
   "metadata": {},
   "outputs": [],
   "source": []
  }
 ],
 "metadata": {
  "kernelspec": {
   "display_name": "Python 3",
   "language": "python",
   "name": "python3"
  },
  "language_info": {
   "codemirror_mode": {
    "name": "ipython",
    "version": 3
   },
   "file_extension": ".py",
   "mimetype": "text/x-python",
   "name": "python",
   "nbconvert_exporter": "python",
   "pygments_lexer": "ipython3",
   "version": "3.7.4"
  }
 },
 "nbformat": 4,
 "nbformat_minor": 2
}
